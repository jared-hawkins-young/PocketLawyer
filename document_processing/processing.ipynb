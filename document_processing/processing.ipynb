{
 "cells": [
  {
   "cell_type": "code",
   "execution_count": 3,
   "metadata": {},
   "outputs": [],
   "source": [
    "from langchain.document_loaders import OnlinePDFLoader\n",
    "from langchain.text_splitter import RecursiveCharacterTextSplitter\n",
    "from langchain.vectorstores import Pinecone\n",
    "from langchain.embeddings.openai import OpenAIEmbeddings\n",
    "from langchain.chains.question_answering import load_qa_chain\n",
    "from langchain.llms import OpenAI\n",
    "import pinecone\n",
    "import os"
   ]
  },
  {
   "cell_type": "code",
   "execution_count": 8,
   "metadata": {},
   "outputs": [],
   "source": [
    "from dotenv import load_dotenv\n",
    "\n",
    "\n",
    "load_dotenv()\n",
    "# Initialize Pinecone\n",
    "pinecone.init(api_key=os.getenv('PINECONE_API_KEY'), environment='gcp-starter')"
   ]
  },
  {
   "cell_type": "code",
   "execution_count": 18,
   "metadata": {},
   "outputs": [],
   "source": [
    "def initialize_pinecone_index():\n",
    "    loader = OnlinePDFLoader(\"https://www.govinfo.gov/content/pkg/USCODE-2011-title18/pdf/USCODE-2011-title18.pdf\")\n",
    "    data = loader.load()\n",
    "    print(f'You have {len(data)} document(s) in your data')\n",
    "    text_splitter = RecursiveCharacterTextSplitter(chunk_size=1000, chunk_overlap=0)\n",
    "    texts = text_splitter.split_documents(data)\n",
    "    \n",
    "    embeddings = OpenAIEmbeddings(openai_api_key=os.getenv('OPENAI_API_KEY'))\n",
    "    index_name = 'lawyer'\n",
    "    \n",
    "    # Here we assume that Pinecone.from_texts is a valid method and that it returns something we can use later\n",
    "    docsearch = Pinecone.from_texts([t.page_content for t in texts], embeddings, index_name=index_name)\n",
    "    \n",
    "    return docsearchfrom langchain.embeddings import SentenceTransformerEmbeddings\n",
    "embeddings = SentenceTransformerEmbeddings(model_name=\"all-MiniLM-L6-v2\")\n",
    "\n",
    "index_name = \"langchain-chatbot\"\n",
    "\n",
    "index = docsearch\n",
    "\n",
    "def get_similiar_docs(query,k=1,score=False):\n",
    "  if score:\n",
    "    similar_docs = index.similarity_search_with_score(query,k=k)\n",
    "  else:\n",
    "    similar_docs = index.similarity_search(query,k=k)\n",
    "  return similar_docs\n",
    "\n",
    "query = \"what is a petty offense?\"\n",
    "similar_docs = get_similiar_docs(query)\n",
    "similar_docs\n"
   ]
  },
  {
   "cell_type": "code",
   "execution_count": 19,
   "metadata": {},
   "outputs": [],
   "source": [
    "# Running the QA chain\n",
    "def run_qa_chain(query):\n",
    "    llm = OpenAI(temperature=0, openai_api_key=os.getenv('OPENAI_API_KEY'))\n",
    "    chain = load_qa_chain(llm, chain_type=\"stuff\")  # Ensure 'stuff' is a valid chain_type\n",
    "    docs = docsearch.similarity_search(query)\n",
    "    answer = chain.run(input_documents=docs, question=query)\n",
    "    return answer"
   ]
  },
  {
   "cell_type": "code",
   "execution_count": 2,
   "metadata": {},
   "outputs": [
    {
     "ename": "NameError",
     "evalue": "name 'initialize_pinecone_index' is not defined",
     "output_type": "error",
     "traceback": [
      "\u001b[0;31m---------------------------------------------------------------------------\u001b[0m",
      "\u001b[0;31mNameError\u001b[0m                                 Traceback (most recent call last)",
      "\u001b[1;32m/Users/youssefaitalama/Desktop/Portpholio/3155/PocketLawyer/document_processing/processing.ipynb Cell 5\u001b[0m line \u001b[0;36m2\n\u001b[1;32m      <a href='vscode-notebook-cell:/Users/youssefaitalama/Desktop/Portpholio/3155/PocketLawyer/document_processing/processing.ipynb#W4sZmlsZQ%3D%3D?line=0'>1</a>\u001b[0m \u001b[39m# Set up your index on import of this module\u001b[39;00m\n\u001b[0;32m----> <a href='vscode-notebook-cell:/Users/youssefaitalama/Desktop/Portpholio/3155/PocketLawyer/document_processing/processing.ipynb#W4sZmlsZQ%3D%3D?line=1'>2</a>\u001b[0m docsearch \u001b[39m=\u001b[39m initialize_pinecone_index()\n",
      "\u001b[0;31mNameError\u001b[0m: name 'initialize_pinecone_index' is not defined"
     ]
    }
   ],
   "source": [
    "# Set up your index on import of this module\n",
    "docsearch = initialize_pinecone_index()"
   ]
  },
  {
   "cell_type": "code",
   "execution_count": 9,
   "metadata": {},
   "outputs": [],
   "source": [
    "embeddings = OpenAIEmbeddings(openai_api_key=os.getenv('OPENAI_API_KEY'))\n",
    "index_name = 'lawyer'"
   ]
  },
  {
   "cell_type": "code",
   "execution_count": 10,
   "metadata": {},
   "outputs": [],
   "source": [
    "docsearch = Pinecone.from_existing_index(index_name, embeddings)"
   ]
  },
  {
   "cell_type": "code",
   "execution_count": 11,
   "metadata": {},
   "outputs": [
    {
     "data": {
      "text/plain": [
       "[Document(page_content='Section, act June 25, 1948, ch. 645, 62 Stat. 686; Aug. 5, 1953, ch. 325, 67 Stat. 366; Pub. L. 87–845, § 3(a), Oct. 18, 1962, 76A Stat. 698; Pub. L. 90–357, § 59, June 22, 1968, 82 Stat. 248; Pub. L. 101–647, title XXXV, § 3519(c), Nov. 29, 1990, 104 Stat. 4923; Pub. L. 103–322, title XXXIII, § 330010(9), Sept. 13, 1994, 108 Stat. 2143, listed Title 18 sections applicable to and within Canal Zone.\\n\\n§ 19. Petty offense defined\\n\\nAs used in this title, the term ‘‘petty offense’’ means a Class B misdemeanor, a Class C mis- demeanor, or an infraction, for which the maxi- mum fine is no greater than the amount set forth for such an offense in section 3571(b)(6) or (7) in the case of an individual or section 3571(c)(6) or (7) in the case of an organization.\\n\\n(Added Pub. L. 100–185, § 4(a), Dec. 11, 1987, 101 Stat. 1279; amended Pub. L. 100–690, title VII, § 7089(a), Nov. 18, 1988, 102 Stat. 4409.)\\n\\n§ 15. Obligation or other security of foreign gov-\\n\\nernment defined')]"
      ]
     },
     "execution_count": 11,
     "metadata": {},
     "output_type": "execute_result"
    }
   ],
   "source": [
    "from langchain.embeddings import SentenceTransformerEmbeddings\n",
    "embeddings = SentenceTransformerEmbeddings(model_name=\"all-MiniLM-L6-v2\")\n",
    "\n",
    "index_name = \"langchain-chatbot\"\n",
    "\n",
    "index = docsearch\n",
    "\n",
    "def get_similiar_docs(query,k=1,score=False):\n",
    "  if score:\n",
    "    similar_docs = index.similarity_search_with_score(query,k=k)\n",
    "  else:\n",
    "    similar_docs = index.similarity_search(query,k=k)\n",
    "  return similar_docs\n",
    "\n",
    "query = \"what is a petty offense?\"\n",
    "similar_docs = get_similiar_docs(query)\n",
    "similar_docs\n"
   ]
  }
 ],
 "metadata": {
  "kernelspec": {
   "display_name": "base",
   "language": "python",
   "name": "python3"
  },
  "language_info": {
   "codemirror_mode": {
    "name": "ipython",
    "version": 3
   },
   "file_extension": ".py",
   "mimetype": "text/x-python",
   "name": "python",
   "nbconvert_exporter": "python",
   "pygments_lexer": "ipython3",
   "version": "3.10.5"
  }
 },
 "nbformat": 4,
 "nbformat_minor": 2
}
